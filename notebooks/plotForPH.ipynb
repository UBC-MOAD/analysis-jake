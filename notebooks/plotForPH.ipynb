{
 "cells": [
  {
   "cell_type": "code",
   "execution_count": 1,
   "metadata": {},
   "outputs": [],
   "source": [
    "import gsw\n",
    "import xarray as xr\n",
    "import numpy as np\n",
    "import matplotlib.pyplot as plt\n",
    "from mocsy import mocsy\n",
    "import glob "
   ]
  },
  {
   "cell_type": "code",
   "execution_count": 2,
   "metadata": {},
   "outputs": [],
   "source": [
    "ii, ij = 250, 350\n",
    "ji, jj = 150, 300"
   ]
  },
  {
   "cell_type": "code",
   "execution_count": 3,
   "metadata": {},
   "outputs": [],
   "source": [
    "data_TA_DIC_x304_y446 = '/ocean/jtao/MOAD/extractions/SalishSeaCast_wastewater_month_TA_and_DIC_x304_y446_20180101_20181231.nc'\n",
    "data_Temp_Salinity_x304_y446 = '/ocean/jtao/MOAD/extractions/SalishSeaCast_wastewater_month_temp_and_salinity_x304_y446_20180101_20181231.nc'\n",
    "\n",
    "TA_DIC_x304_y446 = glob.glob(data_TA_DIC_x304_y446)\n",
    "Temp_sali_x304_y446 = glob.glob(data_Temp_Salinity_x304_y446)\n",
    "\n",
    "dic_x304_y446 = xr.open_mfdataset(TA_DIC_x304_y446, data_vars=['dissolved_inorganic_carbon']) \n",
    "ta_x304_y446 = xr.open_mfdataset(TA_DIC_x304_y446, data_vars=['total_alkalinity']) \n",
    "temp_x304_y446 = xr.open_mfdataset(Temp_sali_x304_y446, data_vars=['votemper']) \n",
    "salinity_x304_y446 = xr.open_mfdataset(Temp_sali_x304_y446, data_vars=['vosaline']) "
   ]
  },
  {
   "cell_type": "code",
   "execution_count": 5,
   "metadata": {},
   "outputs": [],
   "source": [
    "data_TA_DIC_x305_y446 = '/ocean/jtao/MOAD/extractions/SalishSeaCast_wastewater_month_TA_and_DIC_x305_y446_20180101_20181231.nc'\n",
    "data_Temp_Salinity_x305_y446 = '/ocean/jtao/MOAD/extractions/SalishSeaCast_wastewater_month_temp_and_salinity_x305_y446_20180101_20181231.nc'\n",
    "\n",
    "TA_DIC_x305_y446 = glob.glob(data_TA_DIC_x305_y446)\n",
    "Temp_sali_x305_y446 = glob.glob(data_Temp_Salinity_x305_y446)\n",
    "\n",
    "dic_x305_y446 = xr.open_mfdataset(TA_DIC_x305_y446, data_vars=['dissolved_inorganic_carbon']) \n",
    "ta_x305_y446 = xr.open_mfdataset(TA_DIC_x305_y446, data_vars=['total_alkalinity']) \n",
    "temp_x305_y446 = xr.open_mfdataset(Temp_sali_x305_y446, data_vars=['votemper']) \n",
    "salinity_x305_y446 = xr.open_mfdataset(Temp_sali_x305_y446, data_vars=['vosaline']) "
   ]
  },
  {
   "cell_type": "code",
   "execution_count": 6,
   "metadata": {},
   "outputs": [],
   "source": [
    "data_TA_DIC_x304_y447 = '/ocean/jtao/MOAD/extractions/SalishSeaCast_wastewater_month_TA_and_DIC_x304_y447_20180101_20181231.nc'\n",
    "data_Temp_Salinity_x304_y447 = '/ocean/jtao/MOAD/extractions/SalishSeaCast_wastewater_month_temp_and_salinity_x304_y447_20180101_20181231.nc'\n",
    "\n",
    "TA_DIC_x304_y447 = glob.glob(data_TA_DIC_x304_y447)\n",
    "Temp_sali_x304_y447 = glob.glob(data_Temp_Salinity_x304_y447)\n",
    "\n",
    "dic_x304_y447 = xr.open_mfdataset(TA_DIC_x304_y447, data_vars=['dissolved_inorganic_carbon']) \n",
    "ta_x304_y447 = xr.open_mfdataset(TA_DIC_x304_y447, data_vars=['total_alkalinity']) \n",
    "temp_x304_y447 = xr.open_mfdataset(Temp_sali_x304_y447, data_vars=['votemper']) \n",
    "salinity_x304_y447 = xr.open_mfdataset(Temp_sali_x304_y447, data_vars=['vosaline']) "
   ]
  },
  {
   "cell_type": "code",
   "execution_count": 7,
   "metadata": {},
   "outputs": [],
   "source": [
    "data_TA_DIC_x305_y447 = '/ocean/jtao/MOAD/extractions/SalishSeaCast_wastewater_month_TA_and_DIC_x305_y447_20180101_20181231.nc'\n",
    "data_Temp_Salinity_x305_y447 = '/ocean/jtao/MOAD/extractions/SalishSeaCast_wastewater_month_temp_and_salinity_x305_y447_20180101_20181231.nc'\n",
    "\n",
    "TA_DIC_x305_y447 = glob.glob(data_TA_DIC_x305_y447)\n",
    "Temp_sali_x305_y447 = glob.glob(data_Temp_Salinity_x305_y447)\n",
    "\n",
    "dic_x305_y447 = xr.open_mfdataset(TA_DIC_x305_y447, data_vars=['dissolved_inorganic_carbon']) \n",
    "ta_x305_y447 = xr.open_mfdataset(TA_DIC_x305_y447, data_vars=['total_alkalinity']) \n",
    "temp_x305_y447 = xr.open_mfdataset(Temp_sali_x305_y447, data_vars=['votemper']) \n",
    "salinity_x305_y447 = xr.open_mfdataset(Temp_sali_x305_y447, data_vars=['vosaline']) "
   ]
  },
  {
   "cell_type": "code",
   "execution_count": 8,
   "metadata": {},
   "outputs": [],
   "source": [
    "new_data_TA_DIC_x304_y446 = '/ocean/jtao/MOAD/extractions/SalishSeaCast_wastewater_month_new_DIC_TA_x304_y446_20180101_20181231.nc'\n",
    "new_data_Temp_Salinity_x304_y446 = '/ocean/jtao/MOAD/extractions/SalishSeaCast_wastewater_month_new_temp_salinity_x304_y446_20180101_20181231.nc'\n",
    "\n",
    "new_TA_DIC_x304_y446 = glob.glob(new_data_TA_DIC_x304_y446)\n",
    "new_Temp_sali_x304_y446 = glob.glob(new_data_Temp_Salinity_x304_y446)\n",
    "\n",
    "new_dic_x304_y446 = xr.open_mfdataset(new_TA_DIC_x304_y446, data_vars=['dissolved_inorganic_carbon']) \n",
    "new_ta_x304_y446 = xr.open_mfdataset(new_TA_DIC_x304_y446, data_vars=['total_alkalinity']) \n",
    "new_temp_x304_y446 = xr.open_mfdataset(new_Temp_sali_x304_y446, data_vars=['votemper']) \n",
    "new_salinity_x304_y446 = xr.open_mfdataset(new_Temp_sali_x304_y446, data_vars=['vosaline']) "
   ]
  },
  {
   "cell_type": "code",
   "execution_count": 9,
   "metadata": {},
   "outputs": [],
   "source": [
    "new_data_TA_DIC_x305_y446 = '/ocean/jtao/MOAD/extractions/SalishSeaCast_wastewater_month_new_DIC_TA_x305_y446_20180101_20181231.nc'\n",
    "new_data_Temp_Salinity_x305_y446 = '/ocean/jtao/MOAD/extractions/SalishSeaCast_wastewater_month_new_temp_salinity_x305_y446_20180101_20181231.nc'\n",
    "\n",
    "new_TA_DIC_x305_y446 = glob.glob(new_data_TA_DIC_x305_y446)\n",
    "new_Temp_sali_x305_y446 = glob.glob(new_data_Temp_Salinity_x305_y446)\n",
    "\n",
    "new_dic_x305_y446 = xr.open_mfdataset(new_TA_DIC_x305_y446, data_vars=['dissolved_inorganic_carbon']) \n",
    "new_ta_x305_y446 = xr.open_mfdataset(new_TA_DIC_x305_y446, data_vars=['total_alkalinity']) \n",
    "new_temp_x305_y446 = xr.open_mfdataset(new_Temp_sali_x305_y446, data_vars=['votemper']) \n",
    "new_salinity_x305_y446 = xr.open_mfdataset(new_Temp_sali_x305_y446, data_vars=['vosaline']) "
   ]
  },
  {
   "cell_type": "code",
   "execution_count": 10,
   "metadata": {},
   "outputs": [],
   "source": [
    "new_data_TA_DIC_x304_y447 = '/ocean/jtao/MOAD/extractions/SalishSeaCast_wastewater_month_new_DIC_TA_x304_y447_20180101_20181231.nc'\n",
    "new_data_Temp_Salinity_x304_y447 = '/ocean/jtao/MOAD/extractions/SalishSeaCast_wastewater_month_new_temp_salinity_x304_y447_20180101_20181231.nc'\n",
    "\n",
    "new_TA_DIC_x304_y447 = glob.glob(new_data_TA_DIC_x304_y447)\n",
    "new_Temp_sali_x304_y447 = glob.glob(new_data_Temp_Salinity_x304_y447)\n",
    "\n",
    "new_dic_x304_y447 = xr.open_mfdataset(new_TA_DIC_x304_y447, data_vars=['dissolved_inorganic_carbon']) \n",
    "new_ta_x304_y447 = xr.open_mfdataset(new_TA_DIC_x304_y447, data_vars=['total_alkalinity']) \n",
    "new_temp_x304_y447 = xr.open_mfdataset(new_Temp_sali_x304_y447, data_vars=['votemper']) \n",
    "new_salinity_x304_y447 = xr.open_mfdataset(new_Temp_sali_x304_y447, data_vars=['vosaline'])"
   ]
  },
  {
   "cell_type": "code",
   "execution_count": 11,
   "metadata": {},
   "outputs": [],
   "source": [
    "new_data_TA_DIC_x305_y447 = '/ocean/jtao/MOAD/extractions/SalishSeaCast_wastewater_month_new_DIC_TA_x305_y447_20180101_20181231.nc'\n",
    "new_data_Temp_Salinity_x305_y447 = '/ocean/jtao/MOAD/extractions/SalishSeaCast_wastewater_month_new_temp_salinity_x305_y447_20180101_20181231.nc'\n",
    "\n",
    "new_TA_DIC_x305_y447 = glob.glob(new_data_TA_DIC_x305_y447)\n",
    "new_Temp_sali_x305_y447 = glob.glob(new_data_Temp_Salinity_x305_y447)\n",
    "\n",
    "new_dic_x305_y447 = xr.open_mfdataset(new_TA_DIC_x305_y447, data_vars=['dissolved_inorganic_carbon']) \n",
    "new_ta_x305_y447 = xr.open_mfdataset(new_TA_DIC_x305_y447, data_vars=['total_alkalinity']) \n",
    "new_temp_x305_y447 = xr.open_mfdataset(new_Temp_sali_x305_y447, data_vars=['votemper']) \n",
    "new_salinity_x305_y447 = xr.open_mfdataset(new_Temp_sali_x305_y447, data_vars=['vosaline'])"
   ]
  },
  {
   "cell_type": "code",
   "execution_count": 12,
   "metadata": {},
   "outputs": [],
   "source": [
    "def getPH (sali, temp, ta, dic):\n",
    "    Tinsitu = np.array(gsw.t_from_CT(sali.vosaline[:, 0, 0, 0], temp.votemper[:, 0,  0, 0], 0))\n",
    "    Spsu = 35/35.16504 * np.array(sali.vosaline[:, 0,  0, 0])\n",
    "    TA = np.array(ta.total_alkalinity[:, 0,  0, 0])/1000.\n",
    "    DIC = np.array(dic.dissolved_inorganic_carbon[:, 0,  0, 0])/1000.\n",
    "    ones = np.ones_like(Spsu.flatten())\n",
    "    response_tup = mocsy.mvars(temp=Tinsitu.flatten(), sal=Spsu.flatten(), alk=TA.flatten(), \n",
    "                               dic=DIC.flatten(), sil=0.*ones, phos=0.*ones, patm=0.*ones, \n",
    "                               depth=0.*ones, lat=0.*ones, optcon='mol/m3', optt='Tinsitu', optp='m',\n",
    "                               optb = 'l10', optk1k2='m10', optkf = 'dg', optgas = 'Pinsitu')\n",
    "    return response_tup"
   ]
  },
  {
   "cell_type": "code",
   "execution_count": 13,
   "metadata": {},
   "outputs": [],
   "source": [
    "pH_x304_y446,pco2_x304_y446,fco2_x304_y446,co2_x304_y446,hco3_x304_y446,co3_x304_y446,OmegaA_x304_y446,OmegaC_x304_y446,BetaD_x304_y446,DENis_x304_y446,p_x304_y446,Tis_x304_y446 = getPH(salinity_x304_y446, temp_x304_y446, ta_x304_y446, dic_x304_y446)\n",
    "\n",
    "pH_x305_y446,pco2_x305_y446,fco2_x305_y446,co2_x305_y446,hco3_x305_y446,co3_x305_y446,OmegaA_x305_y446,OmegaC_x305_y446,BetaD_x305_y446,DENis_x305_y446,p_x305_y446,Tis_x305_y446 = getPH(salinity_x305_y446, temp_x305_y446, ta_x305_y446, dic_x305_y446)\n",
    "\n",
    "pH_x304_y447,pco2_x304_y447,fco2_x304_y447,co2_x304_y447,hco3_x304_y447,co3_x304_y447,OmegaA_x304_y447,OmegaC_x304_y447,BetaD_x304_y447,DENis_x304_y447,p_x304_y447,Tis_x304_y447 = getPH(salinity_x304_y447, temp_x304_y447, ta_x304_y447, dic_x304_y447)\n",
    "\n",
    "pH_x305_y447,pco2_x305_y447,fco2_x305_y447,co2_x305_y447,hco3_x305_y447,co3_x305_y447,OmegaA_x305_y447,OmegaC_x305_y447,BetaD_x305_y447,DENis_x305_y447,p_x305_y447,Tis_x305_y447 = getPH(salinity_x305_y447, temp_x305_y447, ta_x305_y447, dic_x305_y447)\n",
    "\n",
    "new_pH_x304_y446,new_pco2_x304_y446, new_fco2_x304_y446,new_co2_x304_y446,new_hco3_x304_y446,new_co3_x304_y446,new_OmegaA_x304_y446,new_OmegaC_x304_y446,new_BetaD_x304_y446,new_DENis_x304_y446,new_p_x304_y446,new_Tis_x304_y446 = getPH(new_salinity_x304_y446, new_temp_x304_y446, new_ta_x304_y446, new_dic_x304_y446)\n",
    "\n",
    "new_pH_x305_y446,new_pco2_x305_y446,new_fco2_x305_y446,new_co2_x305_y446,new_hco3_x305_y446,new_co3_x305_y446,new_OmegaA_x305_y446,new_OmegaC_x305_y446,new_BetaD_x305_y446,new_DENis_x305_y446,new_p_x305_y446,new_Tis_x305_y446 = getPH(new_salinity_x305_y446, new_temp_x305_y446, new_ta_x305_y446, new_dic_x305_y446)\n",
    "\n",
    "new_pH_x304_y447,new_pco2_x304_y447, new_fco2_x304_y447,new_co2_x304_y447,new_hco3_x304_y447,new_co3_x304_y447,new_OmegaA_x304_y447,new_OmegaC_x304_y447,new_BetaD_x304_y447,new_DENis_x304_y447,new_p_x304_y447,new_Tis_x304_y447 = getPH(new_salinity_x304_y447, new_temp_x304_y447, new_ta_x304_y447, new_dic_x304_y447)\n",
    "\n",
    "new_pH_x305_y447,new_pco2_x305_y447,new_fco2_x305_y447,new_co2_x305_y447,new_hco3_x305_y447,new_co3_x305_y447,new_OmegaA_x305_y447,new_OmegaC_x305_y447,new_BetaD_x305_y447,new_DENis_x305_y447,new_p_x305_y447,new_Tis_x305_y447 = getPH(new_salinity_x305_y447, new_temp_x305_y447, new_ta_x305_y447, new_dic_x305_y447)"
   ]
  },
  {
   "cell_type": "code",
   "execution_count": 14,
   "metadata": {},
   "outputs": [
    {
     "data": {
      "text/plain": [
       "[<matplotlib.lines.Line2D at 0x7fc21ad322d0>]"
      ]
     },
     "execution_count": 14,
     "metadata": {},
     "output_type": "execute_result"
    },
    {
     "data": {
      "image/png": "[encoded data removed]",
      "text/plain": [
       "<Figure size 640x480 with 1 Axes>"
      ]
     },
     "metadata": {},
     "output_type": "display_data"
    }
   ],
   "source": [
    "plt.plot(pH_x304_y446)"
   ]
  }
 ],
 "metadata": {
  "kernelspec": {
   "display_name": "analysis-jake",
   "language": "python",
   "name": "python3"
  },
  "language_info": {
   "codemirror_mode": {
    "name": "ipython",
    "version": 3
   },
   "file_extension": ".py",
   "mimetype": "text/x-python",
   "name": "python",
   "nbconvert_exporter": "python",
   "pygments_lexer": "ipython3",
   "version": "3.11.5"
  }
 },
 "nbformat": 4,
 "nbformat_minor": 2
}
